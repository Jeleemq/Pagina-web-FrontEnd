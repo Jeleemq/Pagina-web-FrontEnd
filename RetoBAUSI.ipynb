{
  "nbformat": 4,
  "nbformat_minor": 0,
  "metadata": {
    "colab": {
      "name": "RetoBAUSI",
      "provenance": [],
      "collapsed_sections": [],
      "authorship_tag": "ABX9TyNtaIptAouGRqTs1NGyhQ36",
      "include_colab_link": true
    },
    "kernelspec": {
      "name": "python3",
      "display_name": "Python 3"
    },
    "language_info": {
      "name": "python"
    }
  },
  "cells": [
    {
      "cell_type": "markdown",
      "metadata": {
        "id": "view-in-github",
        "colab_type": "text"
      },
      "source": [
        "<a href=\"https://colab.research.google.com/github/Jeleemq/Pagina-web-FrontEnd/blob/main/RetoBAUSI.ipynb\" target=\"_parent\"><img src=\"https://colab.research.google.com/assets/colab-badge.svg\" alt=\"Open In Colab\"/></a>"
      ]
    },
    {
      "cell_type": "code",
      "execution_count": null,
      "metadata": {
        "id": "CWG7HYM06e4O"
      },
      "outputs": [],
      "source": [
        "#importamos librerias.\n",
        "import time\n",
        "import pandas as pd \n",
        "import matplotlib as plt\n",
        "ventas=pd.read_excel(\"VentasBAUSIRetoMod.xlsx\",index_col=0,header=0)\n",
        "\n",
        "#Se realiza un pequeño progama de introducción.\n",
        "print(\"******* BASE DE DATOS BAUSI ***********\\n\")\n",
        "nombre=(input(\"Ingresa su nombre = \"))\n",
        "usuario=(input(\"Ingresa tu user_name = \"))\n",
        "print(\"******************************************\")\n",
        "print(\"rol en la empresa\")\n",
        "rol=int(input(\"1.Administrador\\n2.Contabilidad\\n3.Usuario\\n4.Gerencia\\n\"))\n",
        "\n",
        "if rol==1:\n",
        "     rol=(\"Administrador\")\n",
        "elif rol==2:\n",
        "     rol=(\"Contabilidad\")\n",
        "elif rol==3:\n",
        "     rol=(\"Usuario\")\n",
        "elif rol==4:\n",
        "     rol=(\"Gerencia\")\n",
        "\n",
        "print(\"******************************************\\n\")\n",
        "print(f\"Bienvenido {nombre} sus datos ingresados son :\\nNombre: {nombre}\\nUsuario: {usuario}\\nRol: {rol}\\n\")\n",
        "confirmacion=input(\"Digite SI, si sus datos son correctos \")\n",
        "\n",
        "while confirmacion==\"SI\":\n",
        "    print(\"espere mientras guardamos la información...\")\n",
        "    time.sleep(5) # espera en segundos\n",
        "    print(\"Bienvenido a tu espacio\")\n",
        "else:\n",
        "   print(\"Vuelva a insertar sus datos\")   \n",
        "print(\"******************************************\")\n",
        "\n",
        "  "
      ]
    },
    {
      "cell_type": "code",
      "source": [
        "#Se comienza a realizar la actividad propuesta .\n",
        "print(f\"Hola {nombre} ¿que consulta deseas realizar?\\n\")\n",
        "seleccion=int(input(\"1.Total de los precios por devoluciones.\\n2.Cantidad total de devoluciones.\\n3.Total de precios por devolución por año.\\n4.Total de ventas por género masculino.\\n\"))\n",
        "\n",
        "if(seleccion==1):\n",
        "    print(\"leyendo información...\")\n",
        "    time.sleep(5)# espera en segundos\n",
        "    ventas_1=ventas.fillna({\"PRECIO_TOTAL_DEVOL\":0.0})\n",
        "    print(ventas_1['PRECIO_TOTAL_DEVOL'])\n",
        "    total=ventas_1['PRECIO_TOTAL_DEVOL'].sum()\n",
        "    print(f\"El total de los precios por devoluciones corresponde a : $ {total} Devoluciones\")\n",
        "    ventas.groupby(['PRECIO_TOTAL_DEVOL','REFERENCIA']).size().unstack().plot(kind=\"hist\", stacked=True)\n",
        "    plt.show()\n",
        "\n",
        "elif(seleccion==2):\n",
        "    print(\"leyendo información...\")\n",
        "    time.sleep(5)# espera en \n",
        "    ventas_1=ventas.fillna({\"CANTIDAD_DEVOLUCION\":0.0})\n",
        "    print(ventas_1['CANTIDAD_DEVOLUCION'])\n",
        "    total_1=ventas_1['CANTIDAD_DEVOLUCION'].sum()\n",
        "    print(f\" La cantidad total de devoluciones corresponde a : {total_1} devoluciones \")\n",
        "    ventas.groupby(['PRODUCTO','CANTIDAD_DEVOLUCION']).size().unstack().plot(kind=\"hist\", stacked=True)\n",
        "    plt.show()\n",
        "\n",
        "elif(seleccion==3):\n",
        "    print(\"leyendo información...\")\n",
        "    time.sleep(5)# espera en segundos\n",
        "    ventas_1=ventas.fillna({\"PRECIO_TOTAL_DEVOL\":0.0,\"CANTIDAD_DEVOLUCION\":0.0})\n",
        "    fecha=ventas_1['AÑO']==2021\n",
        "    fecha_t=ventas_1[fecha]\n",
        "    total_year=fecha_t['PRECIO_TOTAL_DEVOL'].sum()\n",
        "    print(fecha_t)\n",
        "    print(f\"El precio total de devolciones por año corresponde a : ${total_year}\")\n",
        "    #colors=[\"#45E553\",\"#F2F233\"]\n",
        "    ventas.groupby(['PRECIO_TOTAL_DEVOL','AÑO']).size().unstack().plot(kind=\"hist\", stacked=True)\n",
        "    plt.show()\n",
        "\n",
        "elif(seleccion==4):\n",
        "  print(\"leyendo información...\")\n",
        "  time.sleep(5)# espera en segundos\n",
        "  ventas_1=ventas.fillna({\"PRECIO_TOTAL_DEVOL\":0.0,\"CANTIDAD_DEVOLUCION\":0.0})\n",
        "  masculino=ventas_1[ventas_1['GENERO']=='HOMBRE']\n",
        "  resu=masculino['CANTIDAD_PRODUCTO'].sum()\n",
        "  print(masculino)\n",
        "  print(f\"El total de ventas es :{resu} por genero Masculino\")\n",
        "  ventas.groupby(['CANTIDAD_PRODUCTO','GENERO']).size().unstack().plot(kind=\"hist\", stacked=True)\n",
        "  plt.show()\n",
        "  \n",
        "  \n",
        "else:\n",
        "    print(\"Ingrese una opcion valida \")\n",
        "\n",
        "\n",
        "  "
      ],
      "metadata": {
        "id": "3aUtmWkXDYe3"
      },
      "execution_count": null,
      "outputs": []
    }
  ]
}